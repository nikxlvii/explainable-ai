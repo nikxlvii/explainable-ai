{
  "nbformat": 4,
  "nbformat_minor": 0,
  "metadata": {
    "colab": {
      "provenance": [],
      "authorship_tag": "ABX9TyN50iKIWoO5tGDs+qWVp9Af",
      "include_colab_link": true
    },
    "kernelspec": {
      "name": "python3",
      "display_name": "Python 3"
    },
    "language_info": {
      "name": "python"
    }
  },
  "cells": [
    {
      "cell_type": "markdown",
      "metadata": {
        "id": "view-in-github",
        "colab_type": "text"
      },
      "source": [
        "<a href=\"https://colab.research.google.com/github/nikxlvii/explainable-ai/blob/main/Captum.ipynb\" target=\"_parent\"><img src=\"https://colab.research.google.com/assets/colab-badge.svg\" alt=\"Open In Colab\"/></a>"
      ]
    },
    {
      "cell_type": "code",
      "execution_count": 2,
      "metadata": {
        "id": "vXd4AS89Mh5C"
      },
      "outputs": [],
      "source": [
        "import torch\n",
        "import torchvision\n",
        "import torchvision.transforms as Transform"
      ]
    },
    {
      "cell_type": "code",
      "source": [
        "transform = Transform.Compose(\n",
        "    [Transform.ToTensor(),\n",
        "     Transform.Normalize((0.5,0.5,0.5),(0.5,0.5,0.5))]\n",
        ")"
      ],
      "metadata": {
        "id": "eDzOP7t_Mn_O"
      },
      "execution_count": 3,
      "outputs": []
    },
    {
      "cell_type": "code",
      "source": [
        "batch_size = 4\n",
        "\n",
        "train_set = torchvision.datasets.CIFAR10(root='./data',train=True,download=True,transform = transform)\n",
        "test_set = torchvision.datasets.CIFAR10(root='./data',train=False,download=True,transform = transform)\n",
        "\n",
        "\n",
        "trainloader = torch.utils.data.DataLoader(train_set,batch_size=batch_size,shuffle=True,num_workers=3)\n",
        "testloader = torch.utils.data.DataLoader(test_set,batch_size=batch_size,shuffle=True,num_workers=3)"
      ],
      "metadata": {
        "colab": {
          "base_uri": "https://localhost:8080/"
        },
        "id": "U55epGvrMxuu",
        "outputId": "db641c49-14bb-48e5-8139-359c52bad2f3"
      },
      "execution_count": 4,
      "outputs": [
        {
          "output_type": "stream",
          "name": "stdout",
          "text": [
            "Downloading https://www.cs.toronto.edu/~kriz/cifar-10-python.tar.gz to ./data/cifar-10-python.tar.gz\n"
          ]
        },
        {
          "output_type": "stream",
          "name": "stderr",
          "text": [
            "100%|██████████| 170498071/170498071 [00:01<00:00, 86052938.19it/s]\n"
          ]
        },
        {
          "output_type": "stream",
          "name": "stdout",
          "text": [
            "Extracting ./data/cifar-10-python.tar.gz to ./data\n",
            "Files already downloaded and verified\n"
          ]
        },
        {
          "output_type": "stream",
          "name": "stderr",
          "text": [
            "/usr/local/lib/python3.10/dist-packages/torch/utils/data/dataloader.py:557: UserWarning: This DataLoader will create 3 worker processes in total. Our suggested max number of worker in current system is 2, which is smaller than what this DataLoader is going to create. Please be aware that excessive worker creation might get DataLoader running slow or even freeze, lower the worker number to avoid potential slowness/freeze if necessary.\n",
            "  warnings.warn(_create_warning_msg(\n"
          ]
        }
      ]
    },
    {
      "cell_type": "code",
      "source": [
        "classes = ('plane', 'car', 'bird', 'cat','deer', 'dog', 'frog', 'horse', 'ship', 'truck')"
      ],
      "metadata": {
        "id": "drPSRSMMNd-e"
      },
      "execution_count": 5,
      "outputs": []
    },
    {
      "cell_type": "code",
      "source": [
        "# making a convolutional neural network\n",
        "\n",
        "import torch.nn as nn\n",
        "import torch.nn.functional as F\n",
        "\n",
        "class NeuNet(nn.Module):\n",
        "  def __init__(self):\n",
        "    super().__init__()\n",
        "    self.conv1 = nn.Conv2d(3,6,5)\n",
        "    self.pool = nn.MaxPool2d(2,2)\n",
        "    self.conv2 = nn.Conv2d(6,16,5)\n",
        "    self.fc1 = nn.Linear(16*5*5,120)\n",
        "    self.fc2 = nn.Linear(120,84)\n",
        "    self.fc3 = nn.Linear(84,10)\n",
        "\n",
        "  def forward(self,x):\n",
        "    x = self.pool(F.relu(self.conv1(x)))\n",
        "    x = self.pool(F.relu(self.conv2(x)))\n",
        "    x = torch.flatten(x,1)\n",
        "    x = F.relu(self.fc1(x))\n",
        "    x = F.relu(self.fc2(x))\n",
        "    x = self.fc3(x)\n",
        "\n",
        "    return x\n",
        "\n",
        "net = NeuNet()"
      ],
      "metadata": {
        "id": "R5em9kJDOHyg"
      },
      "execution_count": 6,
      "outputs": []
    },
    {
      "cell_type": "code",
      "source": [
        "import torch.optim as optim\n",
        "\n",
        "criterion = nn.CrossEntropyLoss()\n",
        "optimizer = optim.SGD(net.parameters(),lr = 0.001,momentum = 0.9)"
      ],
      "metadata": {
        "id": "GoY43UI2SeoH"
      },
      "execution_count": 7,
      "outputs": []
    },
    {
      "cell_type": "code",
      "source": [
        "for epoch in range(2):\n",
        "\n",
        "  running_loss = 0.0\n",
        "  for i,data in enumerate(trainloader,0):\n",
        "    inputs,labels = data\n",
        "\n",
        "    optimizer.zero_grad()\n",
        "\n",
        "    outputs = net(inputs)\n",
        "    loss = criterion(outputs,labels)\n",
        "    loss.backward()\n",
        "    optimizer.step()\n",
        "\n",
        "    running_loss += loss.item()\n",
        "\n",
        "    if i % 2000 == 1999:\n",
        "      print(f'[{epoch + 1},{i + 1: 5d}] loss: {running_loss/2000:.3f}')\n",
        "      running_loss = 0.0\n",
        "\n",
        "print('Finished Training')"
      ],
      "metadata": {
        "colab": {
          "base_uri": "https://localhost:8080/"
        },
        "id": "5OOHJH9yVU2p",
        "outputId": "b684c12b-112d-4bc2-c312-17eb9bdb0c80"
      },
      "execution_count": 8,
      "outputs": [
        {
          "output_type": "stream",
          "name": "stdout",
          "text": [
            "[1, 2000] loss: 2.255\n",
            "[1, 4000] loss: 1.914\n",
            "[1, 6000] loss: 1.702\n",
            "[1, 8000] loss: 1.575\n",
            "[1, 10000] loss: 1.499\n",
            "[1, 12000] loss: 1.450\n",
            "[2, 2000] loss: 1.381\n",
            "[2, 4000] loss: 1.370\n",
            "[2, 6000] loss: 1.345\n",
            "[2, 8000] loss: 1.309\n",
            "[2, 10000] loss: 1.285\n",
            "[2, 12000] loss: 1.269\n",
            "Finished Training\n"
          ]
        }
      ]
    },
    {
      "cell_type": "code",
      "source": [
        "PATH = './cifar_net.pth'\n",
        "torch.save(net.state_dict(), PATH)"
      ],
      "metadata": {
        "id": "7zIbm1u9XaNa"
      },
      "execution_count": 9,
      "outputs": []
    },
    {
      "cell_type": "code",
      "source": [
        "import matplotlib.pyplot as plt\n",
        "import numpy as np\n",
        "\n",
        "dataiter = iter(trainloader)\n",
        "images, labels = next(dataiter)\n",
        "\n",
        "images,labels"
      ],
      "metadata": {
        "id": "HxyoDlCKaSyS",
        "colab": {
          "base_uri": "https://localhost:8080/"
        },
        "outputId": "b8e647cf-0381-4378-a517-6bbe9a9c0115"
      },
      "execution_count": 10,
      "outputs": [
        {
          "output_type": "execute_result",
          "data": {
            "text/plain": [
              "(tensor([[[[-0.0667, -0.0510,  0.0510,  ...,  0.5686,  0.5765,  0.6314],\n",
              "           [ 0.0353,  0.0510,  0.2157,  ...,  0.6471,  0.6627,  0.7255],\n",
              "           [ 0.1294,  0.2392,  0.3647,  ...,  0.7333,  0.7569,  0.7647],\n",
              "           ...,\n",
              "           [-0.2549, -0.2000, -0.1373,  ..., -0.6235, -0.5608, -0.5529],\n",
              "           [-0.2471, -0.2157, -0.1765,  ..., -0.6784, -0.6157, -0.5529],\n",
              "           [-0.2627, -0.2627, -0.3020,  ..., -0.6471, -0.6314, -0.5686]],\n",
              " \n",
              "          [[-0.0667, -0.0510,  0.0510,  ...,  0.5686,  0.5765,  0.6314],\n",
              "           [ 0.0353,  0.0510,  0.2157,  ...,  0.6471,  0.6627,  0.7255],\n",
              "           [ 0.1294,  0.2392,  0.3647,  ...,  0.7333,  0.7569,  0.7647],\n",
              "           ...,\n",
              "           [-0.2549, -0.2000, -0.1373,  ..., -0.6235, -0.5608, -0.5529],\n",
              "           [-0.2471, -0.2157, -0.1765,  ..., -0.6784, -0.6157, -0.5529],\n",
              "           [-0.2627, -0.2627, -0.3020,  ..., -0.6471, -0.6314, -0.5686]],\n",
              " \n",
              "          [[-0.0667, -0.0510,  0.0510,  ...,  0.5686,  0.5765,  0.6314],\n",
              "           [ 0.0353,  0.0510,  0.2157,  ...,  0.6471,  0.6627,  0.7255],\n",
              "           [ 0.1294,  0.2392,  0.3647,  ...,  0.7333,  0.7569,  0.7647],\n",
              "           ...,\n",
              "           [-0.2549, -0.2000, -0.1373,  ..., -0.6235, -0.5608, -0.5529],\n",
              "           [-0.2471, -0.2157, -0.1765,  ..., -0.6784, -0.6157, -0.5529],\n",
              "           [-0.2627, -0.2627, -0.3020,  ..., -0.6471, -0.6314, -0.5686]]],\n",
              " \n",
              " \n",
              "         [[[ 0.6078,  0.7412,  0.8588,  ...,  1.0000,  1.0000,  0.9843],\n",
              "           [ 0.1529,  0.3490,  0.6157,  ...,  0.9922,  0.9843,  0.9529],\n",
              "           [ 0.0824,  0.1137,  0.4353,  ...,  0.9843,  0.9843,  0.9765],\n",
              "           ...,\n",
              "           [-0.3255, -0.6314, -0.5137,  ..., -0.5059, -0.4745, -0.4824],\n",
              "           [-0.4275, -0.6471, -0.7020,  ..., -0.4588, -0.4275, -0.3725],\n",
              "           [-0.3176, -0.4275, -0.4980,  ..., -0.0980, -0.0824, -0.0667]],\n",
              " \n",
              "          [[ 0.6941,  0.8353,  0.9294,  ...,  1.0000,  1.0000,  1.0000],\n",
              "           [ 0.3255,  0.5137,  0.7490,  ...,  0.9922,  0.9922,  0.9922],\n",
              "           [ 0.2863,  0.3255,  0.6078,  ...,  1.0000,  1.0000,  1.0000],\n",
              "           ...,\n",
              "           [-0.3569, -0.6157, -0.5294,  ..., -0.5765, -0.5451, -0.5451],\n",
              "           [-0.4431, -0.6392, -0.7020,  ..., -0.4980, -0.4667, -0.4118],\n",
              "           [-0.3490, -0.4353, -0.5059,  ..., -0.1294, -0.1137, -0.1059]],\n",
              " \n",
              "          [[ 0.5922,  0.7961,  0.9059,  ...,  1.0000,  1.0000,  0.9922],\n",
              "           [ 0.0902,  0.3961,  0.7176,  ...,  0.9922,  0.9922,  0.9843],\n",
              "           [ 0.0902,  0.1294,  0.5294,  ...,  0.9922,  0.9922,  1.0000],\n",
              "           ...,\n",
              "           [-0.3961, -0.6314, -0.5608,  ..., -0.5843, -0.5451, -0.5608],\n",
              "           [-0.4902, -0.6314, -0.6784,  ..., -0.5529, -0.5216, -0.4588],\n",
              "           [-0.4118, -0.4745, -0.5373,  ..., -0.2314, -0.2157, -0.1843]]],\n",
              " \n",
              " \n",
              "         [[[ 0.6078,  0.6392,  0.6392,  ...,  0.7176,  0.7333,  0.7020],\n",
              "           [ 0.6078,  0.6392,  0.6392,  ...,  0.7333,  0.7098,  0.6941],\n",
              "           [ 0.6314,  0.6627,  0.6549,  ...,  0.5765,  0.5686,  0.5922],\n",
              "           ...,\n",
              "           [ 0.6314,  0.6471,  0.5843,  ...,  0.3490,  0.3725,  0.3725],\n",
              "           [ 0.6392,  0.6471,  0.5765,  ...,  0.3490,  0.3176,  0.2471],\n",
              "           [ 0.5922,  0.6314,  0.5922,  ...,  0.3412,  0.3255,  0.2471]],\n",
              " \n",
              "          [[ 0.5529,  0.5922,  0.5843,  ...,  0.6784,  0.7020,  0.6784],\n",
              "           [ 0.5529,  0.5922,  0.5843,  ...,  0.6863,  0.6706,  0.6627],\n",
              "           [ 0.5686,  0.6000,  0.6000,  ...,  0.5373,  0.5216,  0.5373],\n",
              "           ...,\n",
              "           [ 0.3647,  0.3647,  0.2941,  ...,  0.0824,  0.0980,  0.0980],\n",
              "           [ 0.3882,  0.3882,  0.3098,  ...,  0.0510,  0.0196, -0.0431],\n",
              "           [ 0.3569,  0.3961,  0.3490,  ...,  0.0510,  0.0510, -0.0196]],\n",
              " \n",
              "          [[ 0.3804,  0.4275,  0.4275,  ...,  0.5765,  0.6000,  0.5765],\n",
              "           [ 0.3804,  0.4196,  0.4275,  ...,  0.5843,  0.5765,  0.5608],\n",
              "           [ 0.3882,  0.4275,  0.4196,  ...,  0.4118,  0.3725,  0.3804],\n",
              "           ...,\n",
              "           [ 0.0196,  0.0118, -0.0588,  ..., -0.2314, -0.2392, -0.2314],\n",
              "           [ 0.0902,  0.0745, -0.0118,  ..., -0.2863, -0.3098, -0.3569],\n",
              "           [ 0.0902,  0.1216,  0.0745,  ..., -0.2784, -0.2784, -0.3255]]],\n",
              " \n",
              " \n",
              "         [[[ 0.3647,  0.3725,  0.3961,  ...,  0.5373,  0.5216,  0.5137],\n",
              "           [ 0.3490,  0.3490,  0.3725,  ...,  0.5137,  0.4980,  0.4824],\n",
              "           [ 0.3020,  0.3098,  0.3176,  ...,  0.4588,  0.4510,  0.4353],\n",
              "           ...,\n",
              "           [-0.1765, -0.1608, -0.1529,  ..., -0.1451, -0.1451, -0.1451],\n",
              "           [-0.1843, -0.1765, -0.1608,  ..., -0.1608, -0.1608, -0.1608],\n",
              "           [-0.2000, -0.1843, -0.1765,  ..., -0.1922, -0.2000, -0.2078]],\n",
              " \n",
              "          [[ 0.5686,  0.5765,  0.5922,  ...,  0.6471,  0.6314,  0.6314],\n",
              "           [ 0.5608,  0.5686,  0.5922,  ...,  0.6471,  0.6392,  0.6235],\n",
              "           [ 0.5137,  0.5216,  0.5373,  ...,  0.6078,  0.5922,  0.5843],\n",
              "           ...,\n",
              "           [-0.1529, -0.1529, -0.1608,  ..., -0.1137, -0.1137, -0.1137],\n",
              "           [-0.1608, -0.1686, -0.1686,  ..., -0.1294, -0.1294, -0.1294],\n",
              "           [-0.1765, -0.1765, -0.1843,  ..., -0.1608, -0.1765, -0.1765]],\n",
              " \n",
              "          [[ 0.6549,  0.6549,  0.6784,  ...,  0.7412,  0.7020,  0.6863],\n",
              "           [ 0.6314,  0.6314,  0.6549,  ...,  0.6941,  0.6627,  0.6627],\n",
              "           [ 0.6392,  0.6471,  0.6627,  ...,  0.6941,  0.6784,  0.6706],\n",
              "           ...,\n",
              "           [-0.1529, -0.1765, -0.1922,  ..., -0.0902, -0.0902, -0.0902],\n",
              "           [-0.1686, -0.1922, -0.2000,  ..., -0.1059, -0.1059, -0.1059],\n",
              "           [-0.1843, -0.2000, -0.2157,  ..., -0.1451, -0.1529, -0.1529]]]]),\n",
              " tensor([0, 9, 5, 8]))"
            ]
          },
          "metadata": {},
          "execution_count": 10
        }
      ]
    },
    {
      "cell_type": "code",
      "source": [
        "def imshow(img):\n",
        "  img = img / 2 + 0.5\n",
        "  npimg = img.numpy()\n",
        "  plt.imshow(np.transpose(npimg,(1,2,0)))\n",
        "  plt.show()\n",
        "\n",
        "imshow(torchvision.utils.make_grid(images))\n",
        "print('GroundTruth: ', ' '.join(f'{classes[labels[j]]:5s}' for j in range(4)))"
      ],
      "metadata": {
        "colab": {
          "base_uri": "https://localhost:8080/",
          "height": 210
        },
        "id": "dbC3Coqt336U",
        "outputId": "793943a2-16d8-4e2b-a7c9-93084c5d6bd9"
      },
      "execution_count": 11,
      "outputs": [
        {
          "output_type": "display_data",
          "data": {
            "text/plain": [
              "<Figure size 640x480 with 1 Axes>"
            ],
            "image/png": "[encoded data removed]"
          },
          "metadata": {}
        },
        {
          "output_type": "stream",
          "name": "stdout",
          "text": [
            "GroundTruth:  plane truck dog   ship \n"
          ]
        }
      ]
    },
    {
      "cell_type": "code",
      "source": [
        "outputs = net(images)"
      ],
      "metadata": {
        "id": "MUJOmVBJ5sM9"
      },
      "execution_count": 12,
      "outputs": []
    },
    {
      "cell_type": "code",
      "source": [
        "_, predicted = torch.max(outputs, 1)\n",
        "\n",
        "print('Predicted: ', ' '.join(f'{classes[predicted[j]]:5s}'\n",
        "                              for j in range(4)))"
      ],
      "metadata": {
        "colab": {
          "base_uri": "https://localhost:8080/"
        },
        "id": "rtD4686r52KL",
        "outputId": "b4e19348-a952-4c0e-8ded-fe634a262940"
      },
      "execution_count": 13,
      "outputs": [
        {
          "output_type": "stream",
          "name": "stdout",
          "text": [
            "Predicted:  plane horse frog  ship \n"
          ]
        }
      ]
    },
    {
      "cell_type": "code",
      "source": [
        "correct = 0\n",
        "total = 0\n",
        "\n",
        "with torch.no_grad():\n",
        "  for data in testloader:\n",
        "    images,labels = data\n",
        "    outputs = net(images)\n",
        "    _, predicted = torch.max(outputs.data, 1)\n",
        "    total += labels.size(0)\n",
        "    correct += (predicted == labels).sum().item()\n",
        "\n",
        "print(f'Accuracy of the network on the 10000 test images: {100 * correct // total} %')"
      ],
      "metadata": {
        "colab": {
          "base_uri": "https://localhost:8080/"
        },
        "id": "uvJyVlO456O6",
        "outputId": "5eab1dff-5175-4ea3-fe47-0398ae2640b1"
      },
      "execution_count": 14,
      "outputs": [
        {
          "output_type": "stream",
          "name": "stderr",
          "text": [
            "/usr/local/lib/python3.10/dist-packages/torch/utils/data/dataloader.py:557: UserWarning: This DataLoader will create 3 worker processes in total. Our suggested max number of worker in current system is 2, which is smaller than what this DataLoader is going to create. Please be aware that excessive worker creation might get DataLoader running slow or even freeze, lower the worker number to avoid potential slowness/freeze if necessary.\n",
            "  warnings.warn(_create_warning_msg(\n"
          ]
        },
        {
          "output_type": "stream",
          "name": "stdout",
          "text": [
            "Accuracy of the network on the 10000 test images: 55 %\n"
          ]
        }
      ]
    },
    {
      "cell_type": "code",
      "source": [
        "# counting predictions for each class\n",
        "correct_pred = {classname: 0 for classname in classes}\n",
        "total_pred = {classname: 0 for classname in classes}\n",
        "\n",
        "with torch.no_grad():\n",
        "    for data in testloader:\n",
        "        images, labels = data\n",
        "        outputs = net(images)\n",
        "        _, predictions = torch.max(outputs, 1)\n",
        "        for label, prediction in zip(labels, predictions):\n",
        "            if label == prediction:\n",
        "                correct_pred[classes[label]] += 1\n",
        "            total_pred[classes[label]] += 1\n",
        "\n",
        "for classname, correct_count in correct_pred.items():\n",
        "    accuracy = 100 * float(correct_count) / total_pred[classname]\n",
        "    print(f'Accuracy for class: {classname:5s} is {accuracy:.1f} %')"
      ],
      "metadata": {
        "colab": {
          "base_uri": "https://localhost:8080/"
        },
        "id": "ebP_GxX66Qpr",
        "outputId": "91cdf17c-6d26-4e0d-c086-79e94e598c03"
      },
      "execution_count": 15,
      "outputs": [
        {
          "output_type": "stream",
          "name": "stdout",
          "text": [
            "Accuracy for class: plane is 56.5 %\n",
            "Accuracy for class: car   is 77.5 %\n",
            "Accuracy for class: bird  is 20.7 %\n",
            "Accuracy for class: cat   is 29.6 %\n",
            "Accuracy for class: deer  is 56.5 %\n",
            "Accuracy for class: dog   is 59.9 %\n",
            "Accuracy for class: frog  is 70.6 %\n",
            "Accuracy for class: horse is 65.0 %\n",
            "Accuracy for class: ship  is 62.2 %\n",
            "Accuracy for class: truck is 58.8 %\n"
          ]
        }
      ]
    },
    {
      "cell_type": "code",
      "source": [
        "ind = 3\n",
        "\n",
        "input = images[ind].unsqueeze(0)\n",
        "input.requires_grad = True"
      ],
      "metadata": {
        "id": "QUuHvWpp_x-u"
      },
      "execution_count": 18,
      "outputs": []
    },
    {
      "cell_type": "code",
      "source": [
        "net.eval()"
      ],
      "metadata": {
        "colab": {
          "base_uri": "https://localhost:8080/"
        },
        "id": "Xx_Z9sjO6s6b",
        "outputId": "05b42aa7-4dab-4efe-8729-f5bd54725ecc"
      },
      "execution_count": 19,
      "outputs": [
        {
          "output_type": "execute_result",
          "data": {
            "text/plain": [
              "NeuNet(\n",
              "  (conv1): Conv2d(3, 6, kernel_size=(5, 5), stride=(1, 1))\n",
              "  (pool): MaxPool2d(kernel_size=2, stride=2, padding=0, dilation=1, ceil_mode=False)\n",
              "  (conv2): Conv2d(6, 16, kernel_size=(5, 5), stride=(1, 1))\n",
              "  (fc1): Linear(in_features=400, out_features=120, bias=True)\n",
              "  (fc2): Linear(in_features=120, out_features=84, bias=True)\n",
              "  (fc3): Linear(in_features=84, out_features=10, bias=True)\n",
              ")"
            ]
          },
          "metadata": {},
          "execution_count": 19
        }
      ]
    },
    {
      "cell_type": "code",
      "source": [
        "!pip install captum\n",
        "\n",
        "from captum.attr import IntegratedGradients\n",
        "from captum.attr import Saliency\n",
        "from captum.attr import DeepLift\n",
        "from captum.attr import NoiseTunnel\n",
        "from captum.attr import visualization as viz"
      ],
      "metadata": {
        "colab": {
          "base_uri": "https://localhost:8080/"
        },
        "id": "QWF_nAPfBcr2",
        "outputId": "e32518a0-69ed-48c8-b0f6-5b031c69b97c"
      },
      "execution_count": 23,
      "outputs": [
        {
          "output_type": "stream",
          "name": "stdout",
          "text": [
            "Collecting captum\n",
            "  Downloading captum-0.7.0-py3-none-any.whl (1.3 MB)\n",
            "\u001b[2K     \u001b[90m━━━━━━━━━━━━━━━━━━━━━━━━━━━━━━━━━━━━━━━━\u001b[0m \u001b[32m1.3/1.3 MB\u001b[0m \u001b[31m6.1 MB/s\u001b[0m eta \u001b[36m0:00:00\u001b[0m\n",
            "\u001b[?25hRequirement already satisfied: matplotlib in /usr/local/lib/python3.10/dist-packages (from captum) (3.7.1)\n",
            "Requirement already satisfied: numpy in /usr/local/lib/python3.10/dist-packages (from captum) (1.25.2)\n",
            "Requirement already satisfied: torch>=1.6 in /usr/local/lib/python3.10/dist-packages (from captum) (2.1.0+cu121)\n",
            "Requirement already satisfied: tqdm in /usr/local/lib/python3.10/dist-packages (from captum) (4.66.2)\n",
            "Requirement already satisfied: filelock in /usr/local/lib/python3.10/dist-packages (from torch>=1.6->captum) (3.13.1)\n",
            "Requirement already satisfied: typing-extensions in /usr/local/lib/python3.10/dist-packages (from torch>=1.6->captum) (4.9.0)\n",
            "Requirement already satisfied: sympy in /usr/local/lib/python3.10/dist-packages (from torch>=1.6->captum) (1.12)\n",
            "Requirement already satisfied: networkx in /usr/local/lib/python3.10/dist-packages (from torch>=1.6->captum) (3.2.1)\n",
            "Requirement already satisfied: jinja2 in /usr/local/lib/python3.10/dist-packages (from torch>=1.6->captum) (3.1.3)\n",
            "Requirement already satisfied: fsspec in /usr/local/lib/python3.10/dist-packages (from torch>=1.6->captum) (2023.6.0)\n",
            "Requirement already satisfied: triton==2.1.0 in /usr/local/lib/python3.10/dist-packages (from torch>=1.6->captum) (2.1.0)\n",
            "Requirement already satisfied: contourpy>=1.0.1 in /usr/local/lib/python3.10/dist-packages (from matplotlib->captum) (1.2.0)\n",
            "Requirement already satisfied: cycler>=0.10 in /usr/local/lib/python3.10/dist-packages (from matplotlib->captum) (0.12.1)\n",
            "Requirement already satisfied: fonttools>=4.22.0 in /usr/local/lib/python3.10/dist-packages (from matplotlib->captum) (4.49.0)\n",
            "Requirement already satisfied: kiwisolver>=1.0.1 in /usr/local/lib/python3.10/dist-packages (from matplotlib->captum) (1.4.5)\n",
            "Requirement already satisfied: packaging>=20.0 in /usr/local/lib/python3.10/dist-packages (from matplotlib->captum) (23.2)\n",
            "Requirement already satisfied: pillow>=6.2.0 in /usr/local/lib/python3.10/dist-packages (from matplotlib->captum) (9.4.0)\n",
            "Requirement already satisfied: pyparsing>=2.3.1 in /usr/local/lib/python3.10/dist-packages (from matplotlib->captum) (3.1.1)\n",
            "Requirement already satisfied: python-dateutil>=2.7 in /usr/local/lib/python3.10/dist-packages (from matplotlib->captum) (2.8.2)\n",
            "Requirement already satisfied: six>=1.5 in /usr/local/lib/python3.10/dist-packages (from python-dateutil>=2.7->matplotlib->captum) (1.16.0)\n",
            "Requirement already satisfied: MarkupSafe>=2.0 in /usr/local/lib/python3.10/dist-packages (from jinja2->torch>=1.6->captum) (2.1.5)\n",
            "Requirement already satisfied: mpmath>=0.19 in /usr/local/lib/python3.10/dist-packages (from sympy->torch>=1.6->captum) (1.3.0)\n",
            "Installing collected packages: captum\n",
            "Successfully installed captum-0.7.0\n"
          ]
        }
      ]
    },
    {
      "cell_type": "code",
      "source": [
        "def attribute_image_features(algorithm,input,**kwargs):\n",
        "  net.zero_grad()\n",
        "  tensor_attributions = algorithm.attribute(input,target = labels[ind],**kwargs)\n",
        "  return tensor_attributions"
      ],
      "metadata": {
        "id": "dsKoQ7mN76zc"
      },
      "execution_count": 21,
      "outputs": []
    },
    {
      "cell_type": "code",
      "source": [
        "saliency = Saliency(net)\n",
        "grads = saliency.attribute(input, target=labels[ind].item())\n",
        "grads = np.transpose(grads.squeeze().cpu().detach().numpy(), (1, 2, 0))"
      ],
      "metadata": {
        "id": "126RYuRC_sOX"
      },
      "execution_count": 24,
      "outputs": []
    },
    {
      "cell_type": "code",
      "source": [
        "ig = IntegratedGradients(net)\n",
        "attr_ig, delta = attribute_image_features(ig, input, baselines=input * 0, return_convergence_delta=True)\n",
        "attr_ig = np.transpose(attr_ig.squeeze().cpu().detach().numpy(), (1, 2, 0))\n",
        "print('Approximation delta: ', abs(delta))"
      ],
      "metadata": {
        "colab": {
          "base_uri": "https://localhost:8080/"
        },
        "id": "edPhF1WPBXbm",
        "outputId": "e4391c3f-db81-47be-89a7-06253f57b0a2"
      },
      "execution_count": 25,
      "outputs": [
        {
          "output_type": "stream",
          "name": "stdout",
          "text": [
            "Approximation delta:  tensor([0.1166], dtype=torch.float64)\n"
          ]
        }
      ]
    },
    {
      "cell_type": "code",
      "source": [
        "print('Original Image')\n",
        "print('Predicted:', classes[predicted[ind]],\n",
        "      ' Probability:', torch.max(F.softmax(outputs, 1)).item())\n",
        "\n",
        "original_image = np.transpose((images[ind].cpu().detach().numpy() / 2) + 0.5, (1, 2, 0))\n",
        "\n",
        "_ = viz.visualize_image_attr(None, original_image,\n",
        "                      method=\"original_image\", title=\"Original Image\")\n",
        "\n",
        "_ = viz.visualize_image_attr(grads, original_image, method=\"blended_heat_map\", sign=\"absolute_value\",\n",
        "                          show_colorbar=True, title=\"Overlayed Gradient Magnitudes\")\n",
        "\n",
        "_ = viz.visualize_image_attr(attr_ig, original_image, method=\"blended_heat_map\",sign=\"all\",\n",
        "                          show_colorbar=True, title=\"Overlayed Integrated Gradients\")"
      ],
      "metadata": {
        "colab": {
          "base_uri": "https://localhost:8080/",
          "height": 1000
        },
        "id": "-7RnUMODDRqA",
        "outputId": "3f3889a6-5329-47ba-acbc-43188c660f64"
      },
      "execution_count": 28,
      "outputs": [
        {
          "output_type": "stream",
          "name": "stdout",
          "text": [
            "Original Image\n",
            "Predicted: frog  Probability: 0.9719582200050354\n"
          ]
        },
        {
          "output_type": "display_data",
          "data": {
            "text/plain": [
              "<Figure size 600x600 with 1 Axes>"
            ],
            "image/png": "[encoded data removed]"
          },
          "metadata": {}
        },
        {
          "output_type": "display_data",
          "data": {
            "text/plain": [
              "<Figure size 600x600 with 2 Axes>"
            ],
            "image/png": "[encoded data removed]"
          },
          "metadata": {}
        },
        {
          "output_type": "display_data",
          "data": {
            "text/plain": [
              "<Figure size 600x600 with 2 Axes>"
            ],
            "image/png": "[encoded data removed]"
          },
          "metadata": {}
        }
      ]
    },
    {
      "cell_type": "markdown",
      "source": [
        "The model says that there is a 97% chance that the image is of a frog."
      ],
      "metadata": {
        "id": "-gAU7OQREK1d"
      }
    }
  ]
}